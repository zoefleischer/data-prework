{
 "cells": [
  {
   "cell_type": "markdown",
   "metadata": {},
   "source": [
    "<img src=\"https://bit.ly/2VnXWr2\" width=\"100\" align=\"left\">"
   ]
  },
  {
   "cell_type": "markdown",
   "metadata": {},
   "source": [
    "# The Snail and the Well\n",
    "\n",
    "A snail falls at the bottom of a 125 cm well. Each day the snail rises 30 cm. But at night, while sleeping, slides 20 cm because the walls are wet. How many days does it take for the snail to escape the well?\n",
    "\n",
    "**Hint**: The snail gets out of the well when it surpasses the 125cm of height.\n",
    "\n",
    "## Tools\n",
    "\n",
    "1. Loop: **while**\n",
    "2. Conditional statements: **if-else**\n",
    "3. Function: **print()**\n",
    "\n",
    "## Tasks\n",
    "\n",
    "#### 1. Assign the challenge data to variables with representative names: `well_height`, `daily_distance`, `nightly_distance` and `snail_position`."
   ]
  },
  {
   "cell_type": "code",
   "execution_count": 1,
   "metadata": {},
   "outputs": [],
   "source": [
    "well_height = 125\n",
    "daily_distance= 30\n",
    "nightly_distance= -20\n",
    "snail_position= 0"
   ]
  },
  {
   "cell_type": "markdown",
   "metadata": {},
   "source": [
    "#### 2. Create a variable `days` to keep count of the days that pass until the snail escapes the well. "
   ]
  },
  {
   "cell_type": "code",
   "execution_count": 2,
   "metadata": {},
   "outputs": [],
   "source": [
    "days=0"
   ]
  },
  {
   "cell_type": "markdown",
   "metadata": {},
   "source": [
    "#### 3. Find the solution to the challenge using the variables defined above. "
   ]
  },
  {
   "cell_type": "code",
   "execution_count": 3,
   "metadata": {},
   "outputs": [
    {
     "name": "stdout",
     "output_type": "stream",
     "text": [
      "Snail is climbing.\n",
      "Day Number 1 :Snail is not out yet.\n",
      "Day Number 2 :Snail is not out yet.\n",
      "Day Number 3 :Snail is not out yet.\n",
      "Day Number 4 :Snail is not out yet.\n",
      "Day Number 5 :Snail is not out yet.\n",
      "Day Number 6 :Snail is not out yet.\n",
      "Day Number 7 :Snail is not out yet.\n",
      "Day Number 8 :Snail is not out yet.\n",
      "Day Number 9 :Snail is not out yet.\n",
      "Day Number 10 :Snail is not out yet.\n",
      "Day Number 11 :Snail is not out yet.\n",
      "Day Number 12 :Snail is not out yet.\n"
     ]
    }
   ],
   "source": [
    "print (\"Snail is climbing.\")\n",
    "snail_position += daily_distance + nightly_distance\n",
    "days +=1\n",
    "\n",
    "while snail_position<well_height:\n",
    "    print (\"Day Number\",days,\":Snail is not out yet.\")\n",
    "    snail_position += daily_distance + nightly_distance\n",
    "    days +=1"
   ]
  },
  {
   "cell_type": "markdown",
   "metadata": {},
   "source": [
    "#### 4. Print the solution."
   ]
  },
  {
   "cell_type": "code",
   "execution_count": 4,
   "metadata": {},
   "outputs": [
    {
     "name": "stdout",
     "output_type": "stream",
     "text": [
      "Snail is out after 13 days.\n"
     ]
    }
   ],
   "source": [
    "print (\"Snail is out after\", days, \"days.\")"
   ]
  },
  {
   "cell_type": "markdown",
   "metadata": {},
   "source": [
    "## Bonus\n",
    "The distance traveled by the snail each day is now defined by a list.\n",
    "```\n",
    "advance_cm = [30, 21, 33, 77, 44, 45, 23, 45, 12, 34, 55]\n",
    "```\n",
    "On the first day, the snail rises 30cm but during the night it slides 20cm. On the second day, the snail rises 21cm but during the night it slides 20cm, and so on. \n",
    "\n",
    "#### 1. How many days does it take for the snail to escape the well?\n",
    "Follow the same guidelines as in the previous challenge.\n",
    "\n",
    "**Hint**: Remember that the snail gets out of the well when it surpasses the 125cm of height."
   ]
  },
  {
   "cell_type": "code",
   "execution_count": 5,
   "metadata": {},
   "outputs": [
    {
     "name": "stdout",
     "output_type": "stream",
     "text": [
      "Day 1 :Snail is still climbing.\n",
      "Day 2 :Snail is still climbing.\n",
      "Day 3 :Snail is still climbing.\n",
      "Day 4 :Snail is still climbing.\n",
      "Day 5 :Snail is still climbing.\n",
      "Day 6 :Snail is still climbing.\n",
      "Snail is out.\n"
     ]
    }
   ],
   "source": [
    "well_height = 125\n",
    "daily_distance= [30, 21, 33, 77, 44, 45, 23, 45, 12, 34, 55]\n",
    "nightly_distance= -20\n",
    "snail_position= 0\n",
    "days=0\n",
    "\n",
    "well_height = 125\n",
    "daily_distance= [30, 21, 33, 77, 44, 45, 23, 45, 12, 34, 55]\n",
    "nightly_distance= -20\n",
    "snail_position= 0\n",
    "days=0\n",
    "\n",
    "for i in daily_distance:\n",
    "    days +=1\n",
    "    snail_position += i + nightly_distance\n",
    "    print (\"Day\",days,\":Snail is still climbing.\")\n",
    "    if snail_position>well_height:\n",
    "        break\n",
    "print (\"Snail is out.\")"
   ]
  },
  {
   "cell_type": "markdown",
   "metadata": {},
   "source": [
    "#### 2. What is its maximum displacement in one day? And its minimum? Calculate the displacement using only the travel distance of the days used to get out of the well. \n",
    "**Hint**: Remember that displacement means the total distance risen taking into account that the snail slides at night.  "
   ]
  },
  {
   "cell_type": "code",
   "execution_count": 6,
   "metadata": {},
   "outputs": [
    {
     "data": {
      "text/plain": [
       "77"
      ]
     },
     "execution_count": 6,
     "metadata": {},
     "output_type": "execute_result"
    }
   ],
   "source": [
    "max_disp= max (daily_distance)\n",
    "max_disp"
   ]
  },
  {
   "cell_type": "markdown",
   "metadata": {},
   "source": [
    "#### 3. What is its average progress? Take into account the snail slides at night."
   ]
  },
  {
   "cell_type": "code",
   "execution_count": 7,
   "metadata": {},
   "outputs": [
    {
     "name": "stdout",
     "output_type": "stream",
     "text": [
      "[10, 1, 13, 57, 24, 25, 3, 25, -8, 14, 35]\n"
     ]
    },
    {
     "data": {
      "text/plain": [
       "18.09090909090909"
      ]
     },
     "execution_count": 7,
     "metadata": {},
     "output_type": "execute_result"
    }
   ],
   "source": [
    "daily_distance= [30, 21, 33, 77, 44, 45, 23, 45, 12, 34, 55]\n",
    "\n",
    "daily_progress=0\n",
    "progress=[]\n",
    "\n",
    "for i in daily_distance:\n",
    "    daily_progress = i + nightly_distance\n",
    "    progress.append (daily_progress)\n",
    "print(progress)\n",
    "\n",
    "avg_progress= sum (progress)/len(progress)\n",
    "avg_progress"
   ]
  },
  {
   "cell_type": "markdown",
   "metadata": {},
   "source": [
    "#### 4. What is the standard deviation of its displacement? Take into account the snail slides at night."
   ]
  },
  {
   "cell_type": "code",
   "execution_count": 8,
   "metadata": {},
   "outputs": [
    {
     "data": {
      "text/plain": [
       "17.996969441850734"
      ]
     },
     "execution_count": 8,
     "metadata": {},
     "output_type": "execute_result"
    }
   ],
   "source": [
    "import statistics\n",
    "statistics.stdev(progress)"
   ]
  },
  {
   "cell_type": "code",
   "execution_count": null,
   "metadata": {},
   "outputs": [],
   "source": []
  }
 ],
 "metadata": {
  "kernelspec": {
   "display_name": "Python 3",
   "language": "python",
   "name": "python3"
  },
  "language_info": {
   "codemirror_mode": {
    "name": "ipython",
    "version": 3
   },
   "file_extension": ".py",
   "mimetype": "text/x-python",
   "name": "python",
   "nbconvert_exporter": "python",
   "pygments_lexer": "ipython3",
   "version": "3.7.6"
  }
 },
 "nbformat": 4,
 "nbformat_minor": 2
}
